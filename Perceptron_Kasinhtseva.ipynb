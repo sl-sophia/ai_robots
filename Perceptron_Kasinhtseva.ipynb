{
 "cells": [
  {
   "cell_type": "markdown",
   "metadata": {},
   "source": [
    "Нейронная сеть с обратным распространением ошибки"
   ]
  },
  {
   "cell_type": "markdown",
   "metadata": {},
   "source": [
    "Многослойный перцептрон. Функция активации - сигмоида. Датасет - Ирисы Фишера."
   ]
  },
  {
   "cell_type": "markdown",
   "metadata": {},
   "source": [
    "Кашинцева София"
   ]
  },
  {
   "cell_type": "code",
   "execution_count": 1,
   "metadata": {},
   "outputs": [
    {
     "name": "stderr",
     "output_type": "stream",
     "text": [
      "C:\\Users\\S\\Anaconda3\\lib\\site-packages\\sklearn\\utils\\fixes.py:313: FutureWarning: numpy not_equal will not check object identity in the future. The comparison did not return the same result as suggested by the identity (`is`)) and will change.\n",
      "  _nan_object_mask = _nan_object_array != _nan_object_array\n"
     ]
    },
    {
     "name": "stdout",
     "output_type": "stream",
     "text": [
      "Populating the interactive namespace from numpy and matplotlib\n"
     ]
    }
   ],
   "source": [
    "import numpy as np\n",
    "import matplotlib.pyplot as plt\n",
    "\n",
    "from sklearn.model_selection import train_test_split\n",
    "from sklearn import datasets\n",
    "%matplotlib inline\n",
    "%pylab inline"
   ]
  },
  {
   "cell_type": "code",
   "execution_count": 2,
   "metadata": {},
   "outputs": [],
   "source": [
    "class Perceptron:\n",
    "    def __init__(self,x,y,hidden_layers=[8],normalize=False):\n",
    "        #кол-во эпох\n",
    "        self.epoches=100000\n",
    "        #кол-во скрытых слоев\n",
    "        self.hidden_layers=hidden_layers\n",
    "        #скорость обучения\n",
    "        self.n = 0.1\n",
    "        #массив весов\n",
    "        self.W = []\n",
    "        #параметр рандомизации\n",
    "        randomness=100\n",
    "        from sklearn.utils import shuffle\n",
    "        # перемешивание датасета примеров\n",
    "        self.x = shuffle(x, random_state = randomness)\n",
    "        # перемешивание ответов соответствующим образом\n",
    "        self.y = shuffle(y, random_state = randomness)\n",
    "        # количество признаков\n",
    "        self.inputs_number = len(self.x[0])\n",
    "        \n",
    "        #кол-во классов\n",
    "        self.classes_number = np.max(self.y)+1\n",
    "        # перекодирование номеров классов с помощью прямого кодирования\n",
    "        self.y = self.one_hot_encoding(self.y)\n",
    "        \n",
    "        #нормализация данных\n",
    "        if normalize==True:\n",
    "            self.x = self.normalize(self.x)\n",
    "        \n",
    "        #Разделение данных на обучающую и тестовую выборки\n",
    "        self.X_train, self.X_test, self.y_train, self.y_test = train_test_split(self.x, self.y, test_size=0.2)\n",
    "        \n",
    "        #создание структуры весов\n",
    "        self.generate_layers_weights()\n",
    "        \n",
    "        #массив ошибок\n",
    "        self.errors = []\n",
    "          \n",
    "    # перекодирование номеров классов с помощью прямого кодирования\n",
    "    def one_hot_encoding(self,Y):\n",
    "        n_col = np.amax(Y) + 1\n",
    "        binarized = np.zeros((len(Y), n_col))\n",
    "        for i in range(len(Y)):\n",
    "            binarized[i, Y[i]] = 1.\n",
    "        return binarized\n",
    "\n",
    "    #сигмоида и её производная\n",
    "    def sigmoid(self,x, deriv = False):\n",
    "        if(deriv==True):\n",
    "            return self.sigmoid(x)*(1-self.sigmoid(x))\n",
    "        return 1/(1+np.exp(-x))\n",
    "\n",
    "    #нормализация данных\n",
    "    def normalize(self,X, axis=-1, order=2):\n",
    "        l2 = np.atleast_1d(np.linalg.norm(X, order, axis))\n",
    "        l2[l2 == 0] = 1\n",
    "        return X / np.expand_dims(l2, axis)\n",
    "    \n",
    "    #заполнение весов\n",
    "    def generate_weights(self,outputs,inputs):\n",
    "        return np.random.random((inputs, outputs))\n",
    "    \n",
    "    #создание структуры нейросети (матрицы весов)\n",
    "    def generate_layers_weights(self):\n",
    "        layers = len(self.hidden_layers)\n",
    "        self.W.append(self.generate_weights(self.hidden_layers[0],self.inputs_number))\n",
    "        for i in range(len(self.hidden_layers)-1):\n",
    "            self.W.append(self.generate_weights(self.hidden_layers[i+1],self.hidden_layers[i]))\n",
    "        self.W.append(self.generate_weights(self.classes_number,self.hidden_layers[len(self.hidden_layers)-1]))\n",
    "        \n",
    "    #обучение\n",
    "    def train(self):\n",
    "        #Выходы слоев\n",
    "        A=[]\n",
    "        #перебор по эпохам\n",
    "        for i in range(self.epoches):\n",
    "            #Прямое распространение\n",
    "            A=[]\n",
    "            A.append(self.X_train)\n",
    "            for k in range(len(self.hidden_layers)+1):\n",
    "                A.append(self.sigmoid(np.dot(A[-1], self.W[k])))\n",
    "            \n",
    "            #Ошибки слоев\n",
    "            layer_error = []\n",
    "            #Дельта  ошибки\n",
    "            layer_delta = []\n",
    "            layer_error.append(self.y_train - A[-1])\n",
    "            layer_delta.append(layer_error[-1] * self.sigmoid(A[-1], deriv=True))\n",
    "            \n",
    "            #Расчет ошибки\n",
    "            for k in range(len(self.hidden_layers)):\n",
    "                layer_error.append(layer_delta[-1].dot(self.W[-1-k].T))\n",
    "                layer_delta.append(layer_error[-1] * self.sigmoid(A[-2-k], deriv=True))\n",
    "            \n",
    "            #Обновление весов\n",
    "            for k in range(len(self.W)):\n",
    "                self.W[-1-k] +=A[-2-k].T.dot(layer_delta[k]) * self.n\n",
    "            \n",
    "            #Выход при ошибке меньшей 0.008\n",
    "            error = np.mean(np.abs(layer_error[0]))\n",
    "            if i>0:\n",
    "                if(error<0.008):\n",
    "                    break\n",
    "            # Сохранение величины ошибки\n",
    "            self.errors.append(error)\n",
    "            # Вычисление точности\n",
    "            accuracy = (1 - error) * 100\n",
    "        # График ошибок по эпохам при обучении\n",
    "        plt.plot(self.errors)\n",
    "        plt.xlabel('Training')\n",
    "        plt.ylabel('Error')\n",
    "        plt.show()\n",
    "        print(\"Training Accuracy \" + str(round(accuracy,2)) + \"%\")\n",
    "        \n",
    "        # Тестирование\n",
    "        # Выходы слоев\n",
    "        B=[]\n",
    "        B.append(self.X_test)\n",
    "        # Прямое распространение\n",
    "        for i in range(len(self.hidden_layers)+1):\n",
    "            B.append(self.sigmoid(np.dot(B[-1], self.W[i])))\n",
    "        #вычисление ошибки\n",
    "        b_error = self.y_test - B[-1]\n",
    "        error = np.mean(np.abs(b_error))\n",
    "        #расчет точности\n",
    "        accuracy = (1 - error) * 100\n",
    "        print(\"Validation Accuracy \" + str(round(accuracy,2)) + \"%\")\n",
    "            "
   ]
  },
  {
   "cell_type": "code",
   "execution_count": 3,
   "metadata": {},
   "outputs": [
    {
     "data": {
      "image/png": "[encoded data removed]",
      "text/plain": [
       "<matplotlib.figure.Figure at 0x16958965e10>"
      ]
     },
     "metadata": {
      "needs_background": "light"
     },
     "output_type": "display_data"
    },
    {
     "name": "stdout",
     "output_type": "stream",
     "text": [
      "Training Accuracy 97.36%\n",
      "Validation Accuracy 98.02%\n"
     ]
    }
   ],
   "source": [
    "iris = datasets.load_iris()\n",
    "x = iris.data\n",
    "y = iris.target\n",
    "\n",
    "perceptron = Perceptron(x,y,normalize=True)\n",
    "perceptron.train()"
   ]
  },
  {
   "cell_type": "code",
   "execution_count": 4,
   "metadata": {},
   "outputs": [
    {
     "data": {
      "image/png": "[encoded data removed]",
      "text/plain": [
       "<matplotlib.figure.Figure at 0x1695d11f780>"
      ]
     },
     "metadata": {
      "needs_background": "light"
     },
     "output_type": "display_data"
    }
   ],
   "source": [
    "formatter = plt.FuncFormatter(lambda i, *args: iris.target_names[int(i)])\n",
    "plt.figure(figsize=(6, 5))\n",
    "plt.scatter(iris.data[:, 0], iris.data[:, 1], c=iris.target)\n",
    "plt.xlabel(iris.feature_names[0])\n",
    "plt.ylabel(iris.feature_names[1])\n",
    "plt.tight_layout()\n",
    "plt.show()"
   ]
  },
  {
   "cell_type": "code",
   "execution_count": null,
   "metadata": {},
   "outputs": [],
   "source": []
  }
 ],
 "metadata": {
  "kernelspec": {
   "display_name": "Python 3",
   "language": "python",
   "name": "python3"
  },
  "language_info": {
   "codemirror_mode": {
    "name": "ipython",
    "version": 3
   },
   "file_extension": ".py",
   "mimetype": "text/x-python",
   "name": "python",
   "nbconvert_exporter": "python",
   "pygments_lexer": "ipython3",
   "version": "3.5.6"
  }
 },
 "nbformat": 4,
 "nbformat_minor": 2
}
